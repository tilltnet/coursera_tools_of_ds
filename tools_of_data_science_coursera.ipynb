{
 "cells": [
  {
   "cell_type": "markdown",
   "id": "87f02d8a-6aeb-4388-9b7b-7c0971286ccb",
   "metadata": {},
   "source": [
    "# Data Science Tools and Ecosystem"
   ]
  },
  {
   "cell_type": "markdown",
   "id": "f72c8bf2-0126-4742-8026-cf4d4e51db2e",
   "metadata": {},
   "source": [
    "In this notebook, Data Science Tools and Ecosystem are summarized."
   ]
  },
  {
   "cell_type": "markdown",
   "id": "8c038eb1-9a85-4584-a892-81b925d9bf31",
   "metadata": {
    "tags": []
   },
   "source": [
    "Some of the popular languages that Data Scientists use are:\n",
    "\n",
    "    1. R\n",
    "    2. Python\n",
    "    3. Julia"
   ]
  },
  {
   "cell_type": "markdown",
   "id": "b3245539-0f2c-48de-b879-69e757a116fa",
   "metadata": {},
   "source": [
    "Some of the commonly used libraries used by Data Scientists include:\n",
    "    1. caret\n",
    "    2. pandas\n",
    "    3. ggplot2\n",
    "    4. stringr\n",
    "    5. dplyr"
   ]
  },
  {
   "cell_type": "markdown",
   "id": "21e69616-933b-4912-a619-e0fd7b47964f",
   "metadata": {},
   "source": [
    "|Data Science Tools|\n",
    "|------------------|\n",
    "|RStudio|\n",
    "|Spyder|\n",
    "|JupyterLab|"
   ]
  },
  {
   "cell_type": "markdown",
   "id": "816fbda0-7a7e-4aa6-a2d1-469d89efaee4",
   "metadata": {},
   "source": [
    "### Below are a few examples of evaluating arithmetic expressions in Python"
   ]
  },
  {
   "cell_type": "code",
   "execution_count": 2,
   "id": "49192ab0-20a9-4c40-8599-f36ae7056d2a",
   "metadata": {
    "tags": []
   },
   "outputs": [
    {
     "data": {
      "text/plain": [
       "17"
      ]
     },
     "execution_count": 2,
     "metadata": {},
     "output_type": "execute_result"
    }
   ],
   "source": [
    "# This is a simple arithmetic expression to multiply and then add integers.\n",
    "(3 * 4) + 5"
   ]
  },
  {
   "cell_type": "code",
   "execution_count": 3,
   "id": "b8379a2d-01c4-4e5c-bffb-d0da28d2d270",
   "metadata": {
    "tags": []
   },
   "outputs": [
    {
     "data": {
      "text/plain": [
       "3.3333333333333335"
      ]
     },
     "execution_count": 3,
     "metadata": {},
     "output_type": "execute_result"
    }
   ],
   "source": [
    "# This will convery 200 minutes to hours by dividing by 60\n",
    "200 / 60"
   ]
  },
  {
   "cell_type": "markdown",
   "id": "7dbd4852-ff8d-4db8-bbdc-7071f3e9f80a",
   "metadata": {},
   "source": [
    "**Objectives:**\n",
    "\n",
    "- List popular languages for Data Science\n",
    "- List Data Science Tools\n",
    "- Demonstrate arithmetic operations\n",
    "- Convert hours to minutes"
   ]
  },
  {
   "cell_type": "markdown",
   "id": "60cdc391-e259-46b3-afe7-dcaaa0e55177",
   "metadata": {},
   "source": [
    "## Author\n",
    "Till"
   ]
  }
 ],
 "metadata": {
  "kernelspec": {
   "display_name": "Python 3 (ipykernel)",
   "language": "python",
   "name": "python3"
  },
  "language_info": {
   "codemirror_mode": {
    "name": "ipython",
    "version": 3
   },
   "file_extension": ".py",
   "mimetype": "text/x-python",
   "name": "python",
   "nbconvert_exporter": "python",
   "pygments_lexer": "ipython3",
   "version": "3.11.4"
  }
 },
 "nbformat": 4,
 "nbformat_minor": 5
}
